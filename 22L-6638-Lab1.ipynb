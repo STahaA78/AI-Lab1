{
  "nbformat": 4,
  "nbformat_minor": 0,
  "metadata": {
    "colab": {
      "provenance": []
    },
    "kernelspec": {
      "name": "python3",
      "display_name": "Python 3"
    },
    "language_info": {
      "name": "python"
    }
  },
  "cells": [
    {
      "cell_type": "code",
      "execution_count": 1,
      "metadata": {
        "colab": {
          "base_uri": "https://localhost:8080/"
        },
        "id": "6-Trqny-0kBa",
        "outputId": "942a62ce-b659-45a0-a673-0d02756d0f79"
      },
      "outputs": [
        {
          "output_type": "stream",
          "name": "stdout",
          "text": [
            "Enter Name: Taha\n",
            "Enter Age: 21\n",
            "Hello Taha! Your 21 years old!\n"
          ]
        }
      ],
      "source": [
        "#1\n",
        "name=input(\"Enter Name: \")\n",
        "age=input(\"Enter Age: \")\n",
        "print(f\"Hello {name}! Your {age} years old!\")"
      ]
    },
    {
      "cell_type": "code",
      "source": [
        "#2\n",
        "data=input(\"Enter Data: \")\n",
        "print(type(data))\n",
        "try:\n",
        "    converted=int(data)\n",
        "    print(f\"converted to int!\")\n",
        "    print(type(converted))\n",
        "except:\n",
        "    print(\"Cannot convert to int\")\n",
        "try:\n",
        "    converted=float(data)\n",
        "    print(f\"converted to int!\")\n",
        "    print(type(converted))\n",
        "except:\n",
        "    print(\"Cannot convert to FLOAT\")\n"
      ],
      "metadata": {
        "colab": {
          "base_uri": "https://localhost:8080/"
        },
        "id": "FmvYtksS1n09",
        "outputId": "a5392215-fb77-432d-b40d-36ed1d5f05ee"
      },
      "execution_count": 11,
      "outputs": [
        {
          "output_type": "stream",
          "name": "stdout",
          "text": [
            "Enter Data: 12.9\n",
            "<class 'str'>\n",
            "Cannot convert to int\n",
            "converted to int!\n",
            "<class 'float'>\n"
          ]
        }
      ]
    },
    {
      "cell_type": "code",
      "source": [
        "#3\n",
        "setData=[\"Hello\",\"Hi\"]\n",
        "data=input(\"Enter Data: \")\n",
        "setData.append(data)\n",
        "setData.remove(\"Hi\")\n",
        "temp = \" \".join(setData)\n",
        "temp=temp.upper()\n",
        "setData=temp.split(\" \")\n",
        "print(setData)"
      ],
      "metadata": {
        "colab": {
          "base_uri": "https://localhost:8080/"
        },
        "id": "czhrC6CE5npg",
        "outputId": "70a88c34-9d26-428b-a10a-c9f04dc17ae3"
      },
      "execution_count": 12,
      "outputs": [
        {
          "output_type": "stream",
          "name": "stdout",
          "text": [
            "Enter Data: Yo\n",
            "['HELLO', 'YO']\n"
          ]
        }
      ]
    },
    {
      "cell_type": "code",
      "source": [
        "#4\n",
        "Data=(\"Hello\",\"Hi\",\"Yo\")\n",
        "(first,second,third)=Data\n",
        "print(first)\n",
        "print(second)"
      ],
      "metadata": {
        "colab": {
          "base_uri": "https://localhost:8080/"
        },
        "id": "xKTKwLVP6bcf",
        "outputId": "797cbd46-fcf1-4989-9e49-d5ae5f9193e7"
      },
      "execution_count": 15,
      "outputs": [
        {
          "output_type": "stream",
          "name": "stdout",
          "text": [
            "Hello\n",
            "Hi\n"
          ]
        }
      ]
    },
    {
      "cell_type": "code",
      "source": [
        "#5\n",
        "StudentGrades={\n",
        "    \"Rohaim\":\"A\",\n",
        "    \"Sikander\":\"A\",\n",
        "    \"Taha\":\"A\",\n",
        "    \"Mahad\":\"A\",\n",
        "    \"Hamza\":\"A\"\n",
        "}\n",
        "print(StudentGrades)"
      ],
      "metadata": {
        "colab": {
          "base_uri": "https://localhost:8080/"
        },
        "id": "kGjc-rwS9tLj",
        "outputId": "99d11f7d-0e89-4c34-86fa-b24b1853853c"
      },
      "execution_count": 16,
      "outputs": [
        {
          "output_type": "stream",
          "name": "stdout",
          "text": [
            "{'Rohaim': 'A', 'Sikander': 'A', 'Taha': 'A', 'Mahad': 'A', 'Hamza': 'A'}\n"
          ]
        }
      ]
    },
    {
      "cell_type": "code",
      "source": [
        "#6\n",
        "list1=input(\"Enter Element seperated by space: \").split(\" \")\n",
        "list2=input(\"Enter Element seperated by space: \").split(\" \")\n",
        "set1=set(list1)\n",
        "set2=set(list2)\n",
        "print(f\"Union: {set1.union(set2)}\")\n",
        "print(f\"Intersection: {set1.intersection(set2)}\")\n",
        "print(f\"Difference: {set1.difference(set2)}\")\n",
        "\n"
      ],
      "metadata": {
        "colab": {
          "base_uri": "https://localhost:8080/"
        },
        "id": "KngRmrN1-0Vj",
        "outputId": "6a26a604-f213-4488-8d76-9b7058fdc2a9"
      },
      "execution_count": 17,
      "outputs": [
        {
          "output_type": "stream",
          "name": "stdout",
          "text": [
            "Enter Element seperated by space: 1 2 3 4\n",
            "Enter Element seperated by space: 1 2\n",
            "Union: {'3', '2', '4', '1'}\n",
            "Intersection: {'1', '2'}\n",
            "Difference: {'3', '4'}\n"
          ]
        }
      ]
    },
    {
      "cell_type": "code",
      "source": [
        "#7\n",
        "data=input(\"Enter Integer: \")\n",
        "data=int(data)\n",
        "if data>0:\n",
        "  print(\"Positive!\")\n",
        "elif data<0:\n",
        "  print(\"Negative!\")\n",
        "else:\n",
        "  print(\"Zero\")"
      ],
      "metadata": {
        "colab": {
          "base_uri": "https://localhost:8080/"
        },
        "id": "HbpcP1FRAdiR",
        "outputId": "ddd6542d-1e9c-4973-aefe-10ec45612d67"
      },
      "execution_count": 18,
      "outputs": [
        {
          "output_type": "stream",
          "name": "stdout",
          "text": [
            "Enter Integer: -1\n",
            "Negative!\n"
          ]
        }
      ]
    },
    {
      "cell_type": "code",
      "source": [
        "#8\n",
        "for i in range(50):\n",
        "  if (i+1)%3==0 and (i+1)%5==0:\n",
        "    print(\"FizzBuzz \\n\")\n",
        "  elif (i+1)%3==0:\n",
        "    print(\"Fizz \\n\")\n",
        "  elif (i+1)%5==0:\n",
        "    print(\"Buzz \\n\")\n",
        "  else:\n",
        "    print(f\"{i+1} \\n\")"
      ],
      "metadata": {
        "colab": {
          "base_uri": "https://localhost:8080/"
        },
        "id": "A_AED_biA6kv",
        "outputId": "24d3b776-8922-43ae-f66f-0e0576533878"
      },
      "execution_count": 19,
      "outputs": [
        {
          "output_type": "stream",
          "name": "stdout",
          "text": [
            "1 \n",
            "\n",
            "2 \n",
            "\n",
            "Fizz \n",
            "\n",
            "4 \n",
            "\n",
            "Buzz \n",
            "\n",
            "Fizz \n",
            "\n",
            "7 \n",
            "\n",
            "8 \n",
            "\n",
            "Fizz \n",
            "\n",
            "Buzz \n",
            "\n",
            "11 \n",
            "\n",
            "Fizz \n",
            "\n",
            "13 \n",
            "\n",
            "14 \n",
            "\n",
            "FizzBuzz \n",
            "\n",
            "16 \n",
            "\n",
            "17 \n",
            "\n",
            "Fizz \n",
            "\n",
            "19 \n",
            "\n",
            "Buzz \n",
            "\n",
            "Fizz \n",
            "\n",
            "22 \n",
            "\n",
            "23 \n",
            "\n",
            "Fizz \n",
            "\n",
            "Buzz \n",
            "\n",
            "26 \n",
            "\n",
            "Fizz \n",
            "\n",
            "28 \n",
            "\n",
            "29 \n",
            "\n",
            "FizzBuzz \n",
            "\n",
            "31 \n",
            "\n",
            "32 \n",
            "\n",
            "Fizz \n",
            "\n",
            "34 \n",
            "\n",
            "Buzz \n",
            "\n",
            "Fizz \n",
            "\n",
            "37 \n",
            "\n",
            "38 \n",
            "\n",
            "Fizz \n",
            "\n",
            "Buzz \n",
            "\n",
            "41 \n",
            "\n",
            "Fizz \n",
            "\n",
            "43 \n",
            "\n",
            "44 \n",
            "\n",
            "FizzBuzz \n",
            "\n",
            "46 \n",
            "\n",
            "47 \n",
            "\n",
            "Fizz \n",
            "\n",
            "49 \n",
            "\n",
            "Buzz \n",
            "\n"
          ]
        }
      ]
    },
    {
      "cell_type": "code",
      "source": [
        "#9\n",
        "Num=input(\"Enter Number: \")\n",
        "def factorial(Num):\n",
        "  Num=int(Num)\n",
        "  fact=1\n",
        "  while(Num>0):\n",
        "    fact=fact*Num\n",
        "    Num=Num-1\n",
        "  return fact\n",
        "fact=factorial(Num)\n",
        "print(fact)\n"
      ],
      "metadata": {
        "colab": {
          "base_uri": "https://localhost:8080/"
        },
        "id": "JWY75MAEBwk3",
        "outputId": "6180a440-3ab8-4e54-9487-487950fc9cfd"
      },
      "execution_count": 50,
      "outputs": [
        {
          "output_type": "stream",
          "name": "stdout",
          "text": [
            "Enter Number: 2\n",
            "2\n"
          ]
        }
      ]
    },
    {
      "cell_type": "code",
      "source": [
        "#10\n",
        "Num=input(\"Enter Number: \")\n",
        "def primenum(Num):\n",
        "  flag=True\n",
        "  for i in range(2,Num):\n",
        "    if Num%i==0:\n",
        "      flag=False\n",
        "      break\n",
        "  if flag:\n",
        "    print(\"Prime\")\n",
        "  else:\n",
        "    print(\"Not Prime\" )\n",
        "Num=int(Num)\n",
        "primenum(Num)\n"
      ],
      "metadata": {
        "colab": {
          "base_uri": "https://localhost:8080/"
        },
        "id": "XodLbb5uCI59",
        "outputId": "ead275cd-7c82-41e9-ef25-d7436abcbbf7"
      },
      "execution_count": 51,
      "outputs": [
        {
          "output_type": "stream",
          "name": "stdout",
          "text": [
            "Enter Number: 12\n",
            "Not Prime\n"
          ]
        }
      ]
    },
    {
      "cell_type": "code",
      "source": [
        "#11\n",
        "listint=input(\"Enter a list of integers seperated by space: \").split(\" \")\n",
        "def squares(listint):\n",
        "  for i in range(len(listint)):\n",
        "    listint[i]=int(listint[i])*int(listint[i])\n",
        "  print(listint)\n",
        "squares(listint)"
      ],
      "metadata": {
        "colab": {
          "base_uri": "https://localhost:8080/"
        },
        "id": "qAsZGOD2CnSB",
        "outputId": "199ce711-ba97-43ea-88c0-6eaaac80ad22"
      },
      "execution_count": 52,
      "outputs": [
        {
          "output_type": "stream",
          "name": "stdout",
          "text": [
            "Enter a list of integers seperated by space: 1 2 3 4 5\n",
            "[1, 4, 9, 16, 25]\n"
          ]
        }
      ]
    },
    {
      "cell_type": "code",
      "source": [
        "#12\n",
        "dict1={\n",
        "    \"i1\":\"1\",\n",
        "    \"i2\":\"2\",\n",
        "    \"i3\":\"3\"\n",
        "}\n",
        "dict2={\n",
        "     \"i1\":\"4\",\n",
        "    \"i4\":\"2\",\n",
        "    \"i5\":\"3\"\n",
        "}\n",
        "def merge(dict1,dict2):\n",
        "  dict1.update(dict2)\n",
        "  print(dict1)\n",
        "merge(dict1,dict2)"
      ],
      "metadata": {
        "colab": {
          "base_uri": "https://localhost:8080/"
        },
        "id": "Rek1tMO0Ccz8",
        "outputId": "1a49bd55-47eb-4ceb-e80f-c5270913cfb2"
      },
      "execution_count": 54,
      "outputs": [
        {
          "output_type": "stream",
          "name": "stdout",
          "text": [
            "{'i1': '4', 'i2': '2', 'i3': '3', 'i4': '2', 'i5': '3'}\n"
          ]
        }
      ]
    },
    {
      "cell_type": "code",
      "source": [
        "#13\n",
        "listint=input(\"Enter a list of integers seperated by space: \").split(\" \")\n",
        "def removedup(listint):\n",
        "  for i in range(len(listint)):\n",
        "    flag=False\n",
        "    j=i-1\n",
        "    while(j>=0 and not flag):\n",
        "      if listint[i]==listint[j]:\n",
        "        flag=True\n",
        "      j=j-1\n",
        "    if flag:\n",
        "      listint[i]=\"x\"\n",
        "  listint.remove(\"x\")\n",
        "  print(listint)\n",
        "removedup(listint)"
      ],
      "metadata": {
        "colab": {
          "base_uri": "https://localhost:8080/"
        },
        "id": "W1tZrArXEbRk",
        "outputId": "8344e039-8e3e-4174-e088-f0b5b8c1b5ab"
      },
      "execution_count": 55,
      "outputs": [
        {
          "output_type": "stream",
          "name": "stdout",
          "text": [
            "Enter a list of integers seperated by space: 1 2 3 1\n",
            "['1', '2', '3']\n"
          ]
        }
      ]
    },
    {
      "cell_type": "code",
      "source": [
        "#14\n",
        "data=input(\"Enter Data: \")\n",
        "def palindrome(data):\n",
        "  data=data.lower()\n",
        "  array=list(data)\n",
        "  i=0\n",
        "  j=len(array)-1\n",
        "  flag=True\n",
        "  while(i<j and flag):\n",
        "    if array[i]!=array[j]:\n",
        "      flag=False\n",
        "    i=i+1\n",
        "    j=j-1\n",
        "  if flag:\n",
        "    print(\"Palindrome\")\n",
        "  else:\n",
        "    print(\"Not Palindrome\")\n",
        "palindrome(data)\n",
        "\n"
      ],
      "metadata": {
        "colab": {
          "base_uri": "https://localhost:8080/"
        },
        "id": "a0gDXPQnF05T",
        "outputId": "9c1bc1d3-e962-4269-e1f9-4a70ca3d41b6"
      },
      "execution_count": 56,
      "outputs": [
        {
          "output_type": "stream",
          "name": "stdout",
          "text": [
            "Enter Data: racecar\n",
            "7\n",
            "Palindrome\n"
          ]
        }
      ]
    },
    {
      "cell_type": "code",
      "source": [
        "#15\n",
        "def fibonacci(Num):\n",
        "  i=1\n",
        "  j=1\n",
        "\n",
        "  if(Num==1):\n",
        "    print(\"1\")\n",
        "  elif Num==2:\n",
        "    print(\"1\\n1\")\n",
        "  elif Num>2:\n",
        "    print(\"1\\n1\")\n",
        "    Num=Num-2\n",
        "    z=0\n",
        "    while z<Num:\n",
        "      temp=j\n",
        "      j=i+j\n",
        "      i=temp\n",
        "      print(f\"{j}\")\n",
        "      z=z+1\n",
        "Num=input(\"Enter Number: \")\n",
        "Num=int(Num)\n",
        "fibonacci(Num)\n",
        "\n",
        ""
      ],
      "metadata": {
        "colab": {
          "base_uri": "https://localhost:8080/"
        },
        "id": "9qrFEjPrHbT7",
        "outputId": "56e104f4-98d9-4a5d-d702-9e1df3e71820"
      },
      "execution_count": 57,
      "outputs": [
        {
          "output_type": "stream",
          "name": "stdout",
          "text": [
            "Enter Number: 12\n",
            "1\n",
            "1\n",
            "2\n",
            "3\n",
            "5\n",
            "8\n",
            "13\n",
            "21\n",
            "34\n",
            "55\n",
            "89\n",
            "144\n"
          ]
        }
      ]
    },
    {
      "cell_type": "code",
      "source": [
        "#16\n",
        "def calculator():\n",
        "  data=input(\"Enter a list fo integers seperated by space: \").split(\" \")\n",
        "  try:\n",
        "    sum=0\n",
        "    for i in range(len(data)):\n",
        "      data[i]=int(data[i])\n",
        "      sum=sum+data[i]\n",
        "    print(f\"Average: {sum/len(data)}\")\n",
        "  except:\n",
        "    print(\"Invalid Input\")\n",
        "calculator()\n",
        "\n"
      ],
      "metadata": {
        "colab": {
          "base_uri": "https://localhost:8080/"
        },
        "id": "CiGe0QBZJd3n",
        "outputId": "a78666b8-f132-4999-ca1f-abc77e8c7434"
      },
      "execution_count": 58,
      "outputs": [
        {
          "output_type": "stream",
          "name": "stdout",
          "text": [
            "Enter a list fo integers seperated by space: 1 2 3\n",
            "Average: 2.0\n"
          ]
        }
      ]
    },
    {
      "cell_type": "code",
      "source": [
        "#17\n",
        "def table():\n",
        "  for i in range(1,11):\n",
        "    print(f\"Table {i}\")\n",
        "    for j in range(1,11):\n",
        "      print(f\"{i} x {j} = {i*j}\")\n",
        "    print(\"\\n\")\n",
        "table()"
      ],
      "metadata": {
        "colab": {
          "base_uri": "https://localhost:8080/"
        },
        "id": "FsVKa-trKKNk",
        "outputId": "5993bb28-750d-451c-ec74-eee27e430337"
      },
      "execution_count": 60,
      "outputs": [
        {
          "output_type": "stream",
          "name": "stdout",
          "text": [
            "Table 1\n",
            "1 x 1 = 1\n",
            "1 x 2 = 2\n",
            "1 x 3 = 3\n",
            "1 x 4 = 4\n",
            "1 x 5 = 5\n",
            "1 x 6 = 6\n",
            "1 x 7 = 7\n",
            "1 x 8 = 8\n",
            "1 x 9 = 9\n",
            "1 x 10 = 10\n",
            "\n",
            "\n",
            "Table 2\n",
            "2 x 1 = 2\n",
            "2 x 2 = 4\n",
            "2 x 3 = 6\n",
            "2 x 4 = 8\n",
            "2 x 5 = 10\n",
            "2 x 6 = 12\n",
            "2 x 7 = 14\n",
            "2 x 8 = 16\n",
            "2 x 9 = 18\n",
            "2 x 10 = 20\n",
            "\n",
            "\n",
            "Table 3\n",
            "3 x 1 = 3\n",
            "3 x 2 = 6\n",
            "3 x 3 = 9\n",
            "3 x 4 = 12\n",
            "3 x 5 = 15\n",
            "3 x 6 = 18\n",
            "3 x 7 = 21\n",
            "3 x 8 = 24\n",
            "3 x 9 = 27\n",
            "3 x 10 = 30\n",
            "\n",
            "\n",
            "Table 4\n",
            "4 x 1 = 4\n",
            "4 x 2 = 8\n",
            "4 x 3 = 12\n",
            "4 x 4 = 16\n",
            "4 x 5 = 20\n",
            "4 x 6 = 24\n",
            "4 x 7 = 28\n",
            "4 x 8 = 32\n",
            "4 x 9 = 36\n",
            "4 x 10 = 40\n",
            "\n",
            "\n",
            "Table 5\n",
            "5 x 1 = 5\n",
            "5 x 2 = 10\n",
            "5 x 3 = 15\n",
            "5 x 4 = 20\n",
            "5 x 5 = 25\n",
            "5 x 6 = 30\n",
            "5 x 7 = 35\n",
            "5 x 8 = 40\n",
            "5 x 9 = 45\n",
            "5 x 10 = 50\n",
            "\n",
            "\n",
            "Table 6\n",
            "6 x 1 = 6\n",
            "6 x 2 = 12\n",
            "6 x 3 = 18\n",
            "6 x 4 = 24\n",
            "6 x 5 = 30\n",
            "6 x 6 = 36\n",
            "6 x 7 = 42\n",
            "6 x 8 = 48\n",
            "6 x 9 = 54\n",
            "6 x 10 = 60\n",
            "\n",
            "\n",
            "Table 7\n",
            "7 x 1 = 7\n",
            "7 x 2 = 14\n",
            "7 x 3 = 21\n",
            "7 x 4 = 28\n",
            "7 x 5 = 35\n",
            "7 x 6 = 42\n",
            "7 x 7 = 49\n",
            "7 x 8 = 56\n",
            "7 x 9 = 63\n",
            "7 x 10 = 70\n",
            "\n",
            "\n",
            "Table 8\n",
            "8 x 1 = 8\n",
            "8 x 2 = 16\n",
            "8 x 3 = 24\n",
            "8 x 4 = 32\n",
            "8 x 5 = 40\n",
            "8 x 6 = 48\n",
            "8 x 7 = 56\n",
            "8 x 8 = 64\n",
            "8 x 9 = 72\n",
            "8 x 10 = 80\n",
            "\n",
            "\n",
            "Table 9\n",
            "9 x 1 = 9\n",
            "9 x 2 = 18\n",
            "9 x 3 = 27\n",
            "9 x 4 = 36\n",
            "9 x 5 = 45\n",
            "9 x 6 = 54\n",
            "9 x 7 = 63\n",
            "9 x 8 = 72\n",
            "9 x 9 = 81\n",
            "9 x 10 = 90\n",
            "\n",
            "\n",
            "Table 10\n",
            "10 x 1 = 10\n",
            "10 x 2 = 20\n",
            "10 x 3 = 30\n",
            "10 x 4 = 40\n",
            "10 x 5 = 50\n",
            "10 x 6 = 60\n",
            "10 x 7 = 70\n",
            "10 x 8 = 80\n",
            "10 x 9 = 90\n",
            "10 x 10 = 100\n",
            "\n",
            "\n"
          ]
        }
      ]
    },
    {
      "cell_type": "code",
      "source": [
        "#18\n",
        "LoginInfo={\n",
        "    \"taha\":\"12345678\",\n",
        "    \"Mahad\":\"12345678\"\n",
        "}\n",
        "username=input(\"Enter Username: \")\n",
        "password=input(\"Enter Password: \")\n",
        "def login(username,password):\n",
        "  if LoginInfo.get(username)==password:\n",
        "    print(\"Login Successful\")\n",
        "  else:\n",
        "    print(\"Login Failed\")\n",
        "login(username,password)\n"
      ],
      "metadata": {
        "colab": {
          "base_uri": "https://localhost:8080/"
        },
        "id": "wA5ATrZ2KySL",
        "outputId": "f2a42ece-ab32-4d69-ff20-3b41eca90040"
      },
      "execution_count": 61,
      "outputs": [
        {
          "output_type": "stream",
          "name": "stdout",
          "text": [
            "Enter Username: taha\n",
            "Enter Password: 12345678\n",
            "Login Successful\n"
          ]
        }
      ]
    },
    {
      "cell_type": "code",
      "source": [
        "#19\n",
        "words = input(\"Enter the words with spaces: \").split()\n",
        "word_count = {}\n",
        "for word in words:\n",
        "  if word in word_count:\n",
        "    word_count[word] += 1\n",
        "  else:\n",
        "    word_count[word] = 1\n",
        "print(word_count)"
      ],
      "metadata": {
        "colab": {
          "base_uri": "https://localhost:8080/"
        },
        "id": "aUDN3zAaLY_V",
        "outputId": "35856493-253e-4a0b-f658-1fb8f0eda313"
      },
      "execution_count": 62,
      "outputs": [
        {
          "output_type": "stream",
          "name": "stdout",
          "text": [
            "Enter the words with spaces: taha rumi\n",
            "{'taha': 1, 'rumi': 1}\n"
          ]
        }
      ]
    },
    {
      "cell_type": "code",
      "source": [
        "#20\n",
        "words = input(\"Enter the words with spaces: \").split()\n",
        "word_count = {}\n",
        "for word in words:\n",
        "  if word in word_count:\n",
        "    word_count[word] += 1\n",
        "  else:\n",
        "    word_count[word] = 1\n",
        "print(word_count)"
      ],
      "metadata": {
        "id": "foAhl92oLZBt"
      },
      "execution_count": null,
      "outputs": []
    }
  ]
}